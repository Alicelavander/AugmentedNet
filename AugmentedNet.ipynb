{
  "cells": [
    {
      "cell_type": "markdown",
      "metadata": {
        "id": "meBhxknVVjxf"
      },
      "source": [
        "This notebook runs the `AugmentedNet` Roman numeral analysis network for inference on an unseen `MusicXML` file.\n",
        "\n",
        "More info about the network can be found in the [GitHub repo](https://github.com/napulen/AugmentedNet) and the [paper](https://archives.ismir.net/ismir2021/paper/000050.pdf)."
      ]
    },
    {
      "cell_type": "markdown",
      "metadata": {
        "id": "vphsLzoMWOl2"
      },
      "source": [
        "Get the repo and python dependencies"
      ]
    },
    {
      "cell_type": "code",
      "execution_count": 1,
      "metadata": {
        "colab": {
          "base_uri": "https://localhost:8080/"
        },
        "id": "PjHizBGaV-0m",
        "outputId": "01b33915-b845-4198-81ed-137cb309aa2e"
      },
      "outputs": [
        {
          "name": "stdout",
          "output_type": "stream",
          "text": [
            "Cloning into 'AugmentedNet'...\n",
            "remote: Enumerating objects: 3085, done.\u001b[K\n",
            "remote: Counting objects: 100% (766/766), done.\u001b[K\n",
            "remote: Compressing objects: 100% (498/498), done.\u001b[K\n",
            "remote: Total 3085 (delta 494), reused 509 (delta 256), pack-reused 2319\u001b[K\n",
            "Receiving objects: 100% (3085/3085), 33.37 MiB | 12.28 MiB/s, done.\n",
            "Resolving deltas: 100% (1587/1587), done.\n",
            "/content/AugmentedNet\n",
            "\u001b[K     |████████████████████████████████| 19.2 MB 1.3 MB/s \n",
            "\u001b[?25h  Building wheel for music21 (setup.py) ... \u001b[?25l\u001b[?25hdone\n",
            "\u001b[K     |████████████████████████████████| 14.2 MB 1.4 MB/s \n",
            "\u001b[K     |████████████████████████████████| 79 kB 6.4 MB/s \n",
            "\u001b[K     |████████████████████████████████| 146 kB 58.7 MB/s \n",
            "\u001b[K     |████████████████████████████████| 1.1 MB 43.5 MB/s \n",
            "\u001b[K     |████████████████████████████████| 58 kB 4.2 MB/s \n",
            "\u001b[K     |████████████████████████████████| 180 kB 51.8 MB/s \n",
            "\u001b[K     |████████████████████████████████| 75 kB 4.3 MB/s \n",
            "\u001b[K     |████████████████████████████████| 53 kB 1.8 MB/s \n",
            "\u001b[K     |████████████████████████████████| 63 kB 1.5 MB/s \n",
            "\u001b[?25h  Building wheel for alembic (setup.py) ... \u001b[?25l\u001b[?25hdone\n",
            "  Building wheel for databricks-cli (setup.py) ... \u001b[?25l\u001b[?25hdone\n",
            "\u001b[K     |████████████████████████████████| 9.9 MB 8.5 MB/s \n",
            "\u001b[?25h"
          ]
        }
      ],
      "source": [
        "# Clone the repo\n",
        "!git clone https://github.com/napulen/AugmentedNet.git\n",
        "%cd AugmentedNet\n",
        "!pip install -q music21==6.7.1\n",
        "!pip install -q mlflow==1.15.0\n",
        "!pip install -q pandas==1.2.2 "
      ]
    },
    {
      "cell_type": "markdown",
      "metadata": {
        "id": "dLEyLwUtWGuo"
      },
      "source": [
        "Download a test `MusicXML` file that is not part of the original dataset."
      ]
    },
    {
      "cell_type": "code",
      "execution_count": 2,
      "metadata": {
        "colab": {
          "base_uri": "https://localhost:8080/"
        },
        "id": "9Q8zBKtsXJJa",
        "outputId": "a3ee2297-1716-40d8-999e-5ef0f877a29e"
      },
      "outputs": [
        {
          "name": "stdout",
          "output_type": "stream",
          "text": [
            "--2022-02-06 00:39:36--  https://github.com/cuthbertLab/music21/raw/master/music21/corpus/bach/bwv253.mxl\n",
            "Resolving github.com (github.com)... 192.30.255.113\n",
            "Connecting to github.com (github.com)|192.30.255.113|:443... connected.\n",
            "HTTP request sent, awaiting response... 302 Found\n",
            "Location: https://raw.githubusercontent.com/cuthbertLab/music21/master/music21/corpus/bach/bwv253.mxl [following]\n",
            "--2022-02-06 00:39:36--  https://raw.githubusercontent.com/cuthbertLab/music21/master/music21/corpus/bach/bwv253.mxl\n",
            "Resolving raw.githubusercontent.com (raw.githubusercontent.com)... 185.199.108.133, 185.199.110.133, 185.199.109.133, ...\n",
            "Connecting to raw.githubusercontent.com (raw.githubusercontent.com)|185.199.108.133|:443... connected.\n",
            "HTTP request sent, awaiting response... 200 OK\n",
            "Length: 3853 (3.8K) [application/octet-stream]\n",
            "Saving to: ‘bwv253.mxl’\n",
            "\n",
            "bwv253.mxl          100%[===================>]   3.76K  --.-KB/s    in 0s      \n",
            "\n",
            "2022-02-06 00:39:36 (51.2 MB/s) - ‘bwv253.mxl’ saved [3853/3853]\n",
            "\n"
          ]
        }
      ],
      "source": [
        "!wget https://github.com/cuthbertLab/music21/raw/master/music21/corpus/bach/bwv253.mxl\n",
        "score = \"bwv253.mxl\""
      ]
    },
    {
      "cell_type": "markdown",
      "metadata": {
        "id": "-Qhh-NgGYT9W"
      },
      "source": [
        "Run the network to analyze the score."
      ]
    },
    {
      "cell_type": "code",
      "execution_count": 3,
      "metadata": {
        "colab": {
          "base_uri": "https://localhost:8080/"
        },
        "id": "4JTU022KYZ2t",
        "outputId": "287314d8-8e25-47fa-cefd-6a06b2d66c95"
      },
      "outputs": [
        {
          "name": "stdout",
          "output_type": "stream",
          "text": [
            "2022-02-06 00:39:44.333069: E tensorflow/stream_executor/cuda/cuda_driver.cc:271] failed call to cuInit: CUDA_ERROR_NO_DEVICE: no CUDA-capable device is detected\n",
            "LocalKey35 (1, 640, 35)\n",
            "PrimaryDegree22 (1, 640, 22)\n",
            "SecondaryDegree22 (1, 640, 22)\n",
            "Inversion4 (1, 640, 4)\n",
            "ChordQuality15 (1, 640, 16)\n",
            "ChordRoot35 (1, 640, 35)\n",
            "Bass35 (1, 640, 35)\n",
            "Tenor35 (1, 640, 35)\n",
            "Alto35 (1, 640, 35)\n",
            "Soprano35 (1, 640, 35)\n",
            "RomanNumeral76 (1, 640, 76)\n",
            "TonicizedKey35 (1, 640, 35)\n",
            "PitchClassSet94 (1, 640, 94)\n",
            "HarmonicRhythm7 (1, 640, 7)\n",
            "/content/AugmentedNet/AugmentedNet/inference.py:42: UserWarning: Boolean Series key will be reindexed to match DataFrame index.\n",
            "  return df.dropna()[df.HarmonicRhythm7 == 0]\n"
          ]
        }
      ],
      "source": [
        "!python -m AugmentedNet.inference AugmentedNet.hdf5 {score}"
      ]
    },
    {
      "cell_type": "markdown",
      "metadata": {
        "id": "4RA4XTP8YkoA"
      },
      "source": [
        "Look at the annotations"
      ]
    },
    {
      "cell_type": "code",
      "execution_count": 4,
      "metadata": {
        "colab": {
          "base_uri": "https://localhost:8080/",
          "height": 505
        },
        "id": "jQUKsS8kZAfB",
        "outputId": "7d69c8d1-e30a-44c7-d494-45e7052cd4b6"
      },
      "outputs": [
        {
          "data": {
            "text/html": [
              "\n",
              "  <div id=\"df-fe3bec78-a619-4cbe-aa78-498abc616e88\">\n",
              "    <div class=\"colab-df-container\">\n",
              "      <div>\n",
              "<style scoped>\n",
              "    .dataframe tbody tr th:only-of-type {\n",
              "        vertical-align: middle;\n",
              "    }\n",
              "\n",
              "    .dataframe tbody tr th {\n",
              "        vertical-align: top;\n",
              "    }\n",
              "\n",
              "    .dataframe thead th {\n",
              "        text-align: right;\n",
              "    }\n",
              "</style>\n",
              "<table border=\"1\" class=\"dataframe\">\n",
              "  <thead>\n",
              "    <tr style=\"text-align: right;\">\n",
              "      <th></th>\n",
              "      <th>Unnamed: 0</th>\n",
              "      <th>LocalKey35</th>\n",
              "      <th>PrimaryDegree22</th>\n",
              "      <th>SecondaryDegree22</th>\n",
              "      <th>Inversion4</th>\n",
              "      <th>ChordQuality15</th>\n",
              "      <th>ChordRoot35</th>\n",
              "      <th>Bass35</th>\n",
              "      <th>Tenor35</th>\n",
              "      <th>Alto35</th>\n",
              "      <th>Soprano35</th>\n",
              "      <th>RomanNumeral76</th>\n",
              "      <th>TonicizedKey35</th>\n",
              "      <th>PitchClassSet94</th>\n",
              "      <th>HarmonicRhythm7</th>\n",
              "      <th>offset</th>\n",
              "      <th>measure</th>\n",
              "    </tr>\n",
              "  </thead>\n",
              "  <tbody>\n",
              "    <tr>\n",
              "      <th>0</th>\n",
              "      <td>0</td>\n",
              "      <td>A</td>\n",
              "      <td>1</td>\n",
              "      <td>None</td>\n",
              "      <td>0</td>\n",
              "      <td>major triad</td>\n",
              "      <td>A</td>\n",
              "      <td>A</td>\n",
              "      <td>C#</td>\n",
              "      <td>E</td>\n",
              "      <td>A</td>\n",
              "      <td>I</td>\n",
              "      <td>A</td>\n",
              "      <td>(1, 4, 9)</td>\n",
              "      <td>0</td>\n",
              "      <td>0.000</td>\n",
              "      <td>0.0</td>\n",
              "    </tr>\n",
              "    <tr>\n",
              "      <th>1</th>\n",
              "      <td>1</td>\n",
              "      <td>A</td>\n",
              "      <td>1</td>\n",
              "      <td>None</td>\n",
              "      <td>0</td>\n",
              "      <td>major triad</td>\n",
              "      <td>A</td>\n",
              "      <td>A</td>\n",
              "      <td>C#</td>\n",
              "      <td>E</td>\n",
              "      <td>A</td>\n",
              "      <td>I</td>\n",
              "      <td>A</td>\n",
              "      <td>(1, 4, 9)</td>\n",
              "      <td>1</td>\n",
              "      <td>0.125</td>\n",
              "      <td>0.0</td>\n",
              "    </tr>\n",
              "    <tr>\n",
              "      <th>2</th>\n",
              "      <td>2</td>\n",
              "      <td>A</td>\n",
              "      <td>1</td>\n",
              "      <td>None</td>\n",
              "      <td>0</td>\n",
              "      <td>major triad</td>\n",
              "      <td>A</td>\n",
              "      <td>A</td>\n",
              "      <td>C#</td>\n",
              "      <td>E</td>\n",
              "      <td>A</td>\n",
              "      <td>I</td>\n",
              "      <td>A</td>\n",
              "      <td>(1, 4, 9)</td>\n",
              "      <td>2</td>\n",
              "      <td>0.250</td>\n",
              "      <td>0.0</td>\n",
              "    </tr>\n",
              "    <tr>\n",
              "      <th>3</th>\n",
              "      <td>3</td>\n",
              "      <td>A</td>\n",
              "      <td>1</td>\n",
              "      <td>None</td>\n",
              "      <td>0</td>\n",
              "      <td>major triad</td>\n",
              "      <td>A</td>\n",
              "      <td>A</td>\n",
              "      <td>C#</td>\n",
              "      <td>E</td>\n",
              "      <td>A</td>\n",
              "      <td>I</td>\n",
              "      <td>A</td>\n",
              "      <td>(1, 4, 9)</td>\n",
              "      <td>2</td>\n",
              "      <td>0.375</td>\n",
              "      <td>0.0</td>\n",
              "    </tr>\n",
              "    <tr>\n",
              "      <th>4</th>\n",
              "      <td>4</td>\n",
              "      <td>A</td>\n",
              "      <td>1</td>\n",
              "      <td>None</td>\n",
              "      <td>0</td>\n",
              "      <td>major triad</td>\n",
              "      <td>A</td>\n",
              "      <td>A</td>\n",
              "      <td>C#</td>\n",
              "      <td>E</td>\n",
              "      <td>A</td>\n",
              "      <td>I</td>\n",
              "      <td>A</td>\n",
              "      <td>(1, 4, 9)</td>\n",
              "      <td>3</td>\n",
              "      <td>0.500</td>\n",
              "      <td>0.0</td>\n",
              "    </tr>\n",
              "    <tr>\n",
              "      <th>...</th>\n",
              "      <td>...</td>\n",
              "      <td>...</td>\n",
              "      <td>...</td>\n",
              "      <td>...</td>\n",
              "      <td>...</td>\n",
              "      <td>...</td>\n",
              "      <td>...</td>\n",
              "      <td>...</td>\n",
              "      <td>...</td>\n",
              "      <td>...</td>\n",
              "      <td>...</td>\n",
              "      <td>...</td>\n",
              "      <td>...</td>\n",
              "      <td>...</td>\n",
              "      <td>...</td>\n",
              "      <td>...</td>\n",
              "      <td>...</td>\n",
              "    </tr>\n",
              "    <tr>\n",
              "      <th>635</th>\n",
              "      <td>635</td>\n",
              "      <td>F-</td>\n",
              "      <td>-1</td>\n",
              "      <td>-1</td>\n",
              "      <td>0</td>\n",
              "      <td>major triad</td>\n",
              "      <td>C--</td>\n",
              "      <td>C--</td>\n",
              "      <td>C--</td>\n",
              "      <td>C--</td>\n",
              "      <td>C--</td>\n",
              "      <td>I</td>\n",
              "      <td>F-</td>\n",
              "      <td>(0, 1, 5, 8)</td>\n",
              "      <td>0</td>\n",
              "      <td>NaN</td>\n",
              "      <td>NaN</td>\n",
              "    </tr>\n",
              "    <tr>\n",
              "      <th>636</th>\n",
              "      <td>636</td>\n",
              "      <td>F-</td>\n",
              "      <td>-1</td>\n",
              "      <td>-1</td>\n",
              "      <td>0</td>\n",
              "      <td>major triad</td>\n",
              "      <td>C--</td>\n",
              "      <td>C--</td>\n",
              "      <td>C--</td>\n",
              "      <td>C--</td>\n",
              "      <td>C--</td>\n",
              "      <td>I</td>\n",
              "      <td>F-</td>\n",
              "      <td>(0, 1, 5, 8)</td>\n",
              "      <td>0</td>\n",
              "      <td>NaN</td>\n",
              "      <td>NaN</td>\n",
              "    </tr>\n",
              "    <tr>\n",
              "      <th>637</th>\n",
              "      <td>637</td>\n",
              "      <td>F-</td>\n",
              "      <td>-1</td>\n",
              "      <td>-1</td>\n",
              "      <td>0</td>\n",
              "      <td>major triad</td>\n",
              "      <td>C--</td>\n",
              "      <td>C--</td>\n",
              "      <td>C--</td>\n",
              "      <td>C--</td>\n",
              "      <td>C--</td>\n",
              "      <td>I</td>\n",
              "      <td>F-</td>\n",
              "      <td>(0, 1, 5, 8)</td>\n",
              "      <td>0</td>\n",
              "      <td>NaN</td>\n",
              "      <td>NaN</td>\n",
              "    </tr>\n",
              "    <tr>\n",
              "      <th>638</th>\n",
              "      <td>638</td>\n",
              "      <td>F-</td>\n",
              "      <td>-1</td>\n",
              "      <td>-1</td>\n",
              "      <td>0</td>\n",
              "      <td>major triad</td>\n",
              "      <td>C--</td>\n",
              "      <td>C--</td>\n",
              "      <td>C--</td>\n",
              "      <td>C--</td>\n",
              "      <td>C--</td>\n",
              "      <td>I</td>\n",
              "      <td>F-</td>\n",
              "      <td>(0, 1, 5, 8)</td>\n",
              "      <td>0</td>\n",
              "      <td>NaN</td>\n",
              "      <td>NaN</td>\n",
              "    </tr>\n",
              "    <tr>\n",
              "      <th>639</th>\n",
              "      <td>639</td>\n",
              "      <td>F-</td>\n",
              "      <td>-1</td>\n",
              "      <td>-1</td>\n",
              "      <td>0</td>\n",
              "      <td>major triad</td>\n",
              "      <td>C--</td>\n",
              "      <td>C--</td>\n",
              "      <td>C--</td>\n",
              "      <td>C--</td>\n",
              "      <td>C--</td>\n",
              "      <td>I</td>\n",
              "      <td>F-</td>\n",
              "      <td>(0, 1, 5, 8)</td>\n",
              "      <td>0</td>\n",
              "      <td>NaN</td>\n",
              "      <td>NaN</td>\n",
              "    </tr>\n",
              "  </tbody>\n",
              "</table>\n",
              "<p>640 rows × 17 columns</p>\n",
              "</div>\n",
              "      <button class=\"colab-df-convert\" onclick=\"convertToInteractive('df-fe3bec78-a619-4cbe-aa78-498abc616e88')\"\n",
              "              title=\"Convert this dataframe to an interactive table.\"\n",
              "              style=\"display:none;\">\n",
              "        \n",
              "  <svg xmlns=\"http://www.w3.org/2000/svg\" height=\"24px\"viewBox=\"0 0 24 24\"\n",
              "       width=\"24px\">\n",
              "    <path d=\"M0 0h24v24H0V0z\" fill=\"none\"/>\n",
              "    <path d=\"M18.56 5.44l.94 2.06.94-2.06 2.06-.94-2.06-.94-.94-2.06-.94 2.06-2.06.94zm-11 1L8.5 8.5l.94-2.06 2.06-.94-2.06-.94L8.5 2.5l-.94 2.06-2.06.94zm10 10l.94 2.06.94-2.06 2.06-.94-2.06-.94-.94-2.06-.94 2.06-2.06.94z\"/><path d=\"M17.41 7.96l-1.37-1.37c-.4-.4-.92-.59-1.43-.59-.52 0-1.04.2-1.43.59L10.3 9.45l-7.72 7.72c-.78.78-.78 2.05 0 2.83L4 21.41c.39.39.9.59 1.41.59.51 0 1.02-.2 1.41-.59l7.78-7.78 2.81-2.81c.8-.78.8-2.07 0-2.86zM5.41 20L4 18.59l7.72-7.72 1.47 1.35L5.41 20z\"/>\n",
              "  </svg>\n",
              "      </button>\n",
              "      \n",
              "  <style>\n",
              "    .colab-df-container {\n",
              "      display:flex;\n",
              "      flex-wrap:wrap;\n",
              "      gap: 12px;\n",
              "    }\n",
              "\n",
              "    .colab-df-convert {\n",
              "      background-color: #E8F0FE;\n",
              "      border: none;\n",
              "      border-radius: 50%;\n",
              "      cursor: pointer;\n",
              "      display: none;\n",
              "      fill: #1967D2;\n",
              "      height: 32px;\n",
              "      padding: 0 0 0 0;\n",
              "      width: 32px;\n",
              "    }\n",
              "\n",
              "    .colab-df-convert:hover {\n",
              "      background-color: #E2EBFA;\n",
              "      box-shadow: 0px 1px 2px rgba(60, 64, 67, 0.3), 0px 1px 3px 1px rgba(60, 64, 67, 0.15);\n",
              "      fill: #174EA6;\n",
              "    }\n",
              "\n",
              "    [theme=dark] .colab-df-convert {\n",
              "      background-color: #3B4455;\n",
              "      fill: #D2E3FC;\n",
              "    }\n",
              "\n",
              "    [theme=dark] .colab-df-convert:hover {\n",
              "      background-color: #434B5C;\n",
              "      box-shadow: 0px 1px 3px 1px rgba(0, 0, 0, 0.15);\n",
              "      filter: drop-shadow(0px 1px 2px rgba(0, 0, 0, 0.3));\n",
              "      fill: #FFFFFF;\n",
              "    }\n",
              "  </style>\n",
              "\n",
              "      <script>\n",
              "        const buttonEl =\n",
              "          document.querySelector('#df-fe3bec78-a619-4cbe-aa78-498abc616e88 button.colab-df-convert');\n",
              "        buttonEl.style.display =\n",
              "          google.colab.kernel.accessAllowed ? 'block' : 'none';\n",
              "\n",
              "        async function convertToInteractive(key) {\n",
              "          const element = document.querySelector('#df-fe3bec78-a619-4cbe-aa78-498abc616e88');\n",
              "          const dataTable =\n",
              "            await google.colab.kernel.invokeFunction('convertToInteractive',\n",
              "                                                     [key], {});\n",
              "          if (!dataTable) return;\n",
              "\n",
              "          const docLinkHtml = 'Like what you see? Visit the ' +\n",
              "            '<a target=\"_blank\" href=https://colab.research.google.com/notebooks/data_table.ipynb>data table notebook</a>'\n",
              "            + ' to learn more about interactive tables.';\n",
              "          element.innerHTML = '';\n",
              "          dataTable['output_type'] = 'display_data';\n",
              "          await google.colab.output.renderOutput(dataTable, element);\n",
              "          const docLink = document.createElement('div');\n",
              "          docLink.innerHTML = docLinkHtml;\n",
              "          element.appendChild(docLink);\n",
              "        }\n",
              "      </script>\n",
              "    </div>\n",
              "  </div>\n",
              "  "
            ],
            "text/plain": [
              "     Unnamed: 0 LocalKey35  PrimaryDegree22  ... HarmonicRhythm7  offset measure\n",
              "0             0          A                1  ...               0   0.000     0.0\n",
              "1             1          A                1  ...               1   0.125     0.0\n",
              "2             2          A                1  ...               2   0.250     0.0\n",
              "3             3          A                1  ...               2   0.375     0.0\n",
              "4             4          A                1  ...               3   0.500     0.0\n",
              "..          ...        ...              ...  ...             ...     ...     ...\n",
              "635         635         F-               -1  ...               0     NaN     NaN\n",
              "636         636         F-               -1  ...               0     NaN     NaN\n",
              "637         637         F-               -1  ...               0     NaN     NaN\n",
              "638         638         F-               -1  ...               0     NaN     NaN\n",
              "639         639         F-               -1  ...               0     NaN     NaN\n",
              "\n",
              "[640 rows x 17 columns]"
            ]
          },
          "execution_count": 4,
          "metadata": {},
          "output_type": "execute_result"
        }
      ],
      "source": [
        "import pandas as pd\n",
        "output = pd.read_csv(f\"{score.rsplit('.', 1)[0]}_annotated.csv\")\n",
        "output"
      ]
    },
    {
      "cell_type": "markdown",
      "metadata": {
        "id": "qHzaJPNecrX2"
      },
      "source": [
        "Download the annotated MusicXML to see the score"
      ]
    },
    {
      "cell_type": "code",
      "execution_count": 20,
      "metadata": {
        "colab": {
          "base_uri": "https://localhost:8080/"
        },
        "id": "PQuTpVZdfAOQ",
        "outputId": "10f26ab9-ff46-40d7-e780-99e76d75f924"
      },
      "outputs": [
        {
          "name": "stdout",
          "output_type": "stream",
          "text": [
            "The location of the annotated MusicXML is: ./bwv253_annotated.xml\n"
          ]
        }
      ],
      "source": [
        "print(f\"The location of the annotated MusicXML is: ./{score.rsplit('.', 1)[0]}_annotated.xml\")"
      ]
    }
  ],
  "metadata": {
    "colab": {
      "collapsed_sections": [],
      "name": "AugmentedNet.ipynb",
      "provenance": []
    },
    "kernelspec": {
      "display_name": "Python 3",
      "name": "python3"
    },
    "language_info": {
      "name": "python"
    }
  },
  "nbformat": 4,
  "nbformat_minor": 0
}
