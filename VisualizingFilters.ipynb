{
 "cells": [
  {
   "cell_type": "markdown",
   "id": "forbidden-blake",
   "metadata": {},
   "source": [
    "# Plotting the filters"
   ]
  },
  {
   "cell_type": "code",
   "execution_count": 1,
   "id": "minimal-assets",
   "metadata": {},
   "outputs": [],
   "source": [
    "import tensorflow as tf\n",
    "from tensorflow import keras\n",
    "import seaborn as sns\n",
    "import matplotlib.pyplot as plt\n",
    "import numpy as np"
   ]
  },
  {
   "cell_type": "code",
   "execution_count": 2,
   "id": "subject-assignment",
   "metadata": {},
   "outputs": [],
   "source": [
    "gpu_devices = tf.config.experimental.list_physical_devices(\"GPU\")\n",
    "for device in gpu_devices:\n",
    "    tf.config.experimental.set_memory_growth(device, True)"
   ]
  },
  {
   "cell_type": "code",
   "execution_count": 3,
   "id": "dying-tunisia",
   "metadata": {},
   "outputs": [],
   "source": [
    "# modelPath = \".model_checkpoint/validationset/bps-augmentednet-rmsproplr01-210526T143649/94-4.336-0.7938.hdf5\" # best accuracy\n",
    "# modelPath = \".model_checkpoint/prototyping/dropout-210528T215602/82-4.383-0.7917.hdf5\" # with dropout\n",
    "# modelPath = \".model_checkpoint/validationset/rmsprop-lr0001-200epochs-210529T090623/171-4.237-0.7809.hdf5\" # low learning rate, 200 epochs\n",
    "# modelPath = \".model_checkpoint/testset/haydnop20-augmentednet-alldata-210513T195252/23-3.821-0.8027.hdf5\" # all data, evaluated on haydn\n",
    "# modelPath = \".model_checkpoint/validationset/rmsprop-learningschedule-piecewise-210530T101943/55-4.175-0.7928.hdf5\" # piecewise learning schedule\n",
    "# modelPath = \".model_checkpoint/validationset/rmsprop-learningschedule-piecewise-stair-210530T170008/44-4.311-0.7949.hdf5\" # piecewise stair\n",
    "# modelPath = \".model_checkpoint/validationset/wirwtc-rotatinglrschedule-210530T215055/55-5.002-0.7453.hdf5\" # wirwtc rotating lr\n",
    "# modelPath = \".model_checkpoint/validationset/bps-lr01-0001-210530T233203/55-4.109-0.7956.hdf5\" # bps, 01 to 0001\n",
    "modelPath = \".model_checkpoint/validationset/bps-lr01-0001-210530T233203/46-4.088-0.7950.hdf5\" # same as before, but lower loss instead of highest accuracy"
   ]
  },
  {
   "cell_type": "raw",
   "id": "minor-minute",
   "metadata": {},
   "source": [
    "model = keras.models.load_model(modelPath)"
   ]
  },
  {
   "cell_type": "code",
   "execution_count": 5,
   "id": "convertible-motorcycle",
   "metadata": {},
   "outputs": [],
   "source": [
    "filters, biases = model.layers[2].get_weights()"
   ]
  },
  {
   "cell_type": "code",
   "execution_count": 6,
   "id": "advised-language",
   "metadata": {},
   "outputs": [],
   "source": [
    "filters = (filters - filters.min()) / (filters.max() - filters.min())"
   ]
  },
  {
   "cell_type": "markdown",
   "id": "listed-shoulder",
   "metadata": {},
   "source": [
    "First filter of first convolutional layer"
   ]
  },
  {
   "cell_type": "code",
   "execution_count": 7,
   "id": "ethical-disco",
   "metadata": {},
   "outputs": [
    {
     "data": {
      "text/plain": [
       "<AxesSubplot:>"
      ]
     },
     "execution_count": 7,
     "metadata": {},
     "output_type": "execute_result"
    },
    {
     "data": {
      "image/png": "[encoded data removed]",
      "text/plain": [
       "<Figure size 432x288 with 2 Axes>"
      ]
     },
     "metadata": {
      "needs_background": "light"
     },
     "output_type": "display_data"
    }
   ],
   "source": [
    "sns.heatmap(filters[0], cmap=\"inferno\")"
   ]
  },
  {
   "cell_type": "markdown",
   "id": "clear-party",
   "metadata": {},
   "source": [
    "# Exploring outputs of model"
   ]
  },
  {
   "cell_type": "code",
   "execution_count": 8,
   "id": "twelve-waterproof",
   "metadata": {},
   "outputs": [
    {
     "name": "stdout",
     "output_type": "stream",
     "text": [
      "Model: \"model\"\n",
      "__________________________________________________________________________________________________\n",
      "Layer (type)                    Output Shape         Param #     Connected to                     \n",
      "==================================================================================================\n",
      "X_Bass19 (InputLayer)           [(None, 640, 19)]    0                                            \n",
      "__________________________________________________________________________________________________\n",
      "X_Chromagram19 (InputLayer)     [(None, 640, 19)]    0                                            \n",
      "__________________________________________________________________________________________________\n",
      "conv1d (Conv1D)                 (None, 640, 32)      640         X_Bass19[0][0]                   \n",
      "__________________________________________________________________________________________________\n",
      "conv1d_6 (Conv1D)               (None, 640, 32)      640         X_Chromagram19[0][0]             \n",
      "__________________________________________________________________________________________________\n",
      "batch_normalization (BatchNorma (None, 640, 32)      128         conv1d[0][0]                     \n",
      "__________________________________________________________________________________________________\n",
      "batch_normalization_6 (BatchNor (None, 640, 32)      128         conv1d_6[0][0]                   \n",
      "__________________________________________________________________________________________________\n",
      "activation (Activation)         (None, 640, 32)      0           batch_normalization[0][0]        \n",
      "__________________________________________________________________________________________________\n",
      "activation_6 (Activation)       (None, 640, 32)      0           batch_normalization_6[0][0]      \n",
      "__________________________________________________________________________________________________\n",
      "concatenate (Concatenate)       (None, 640, 51)      0           X_Bass19[0][0]                   \n",
      "                                                                 activation[0][0]                 \n",
      "__________________________________________________________________________________________________\n",
      "concatenate_6 (Concatenate)     (None, 640, 51)      0           X_Chromagram19[0][0]             \n",
      "                                                                 activation_6[0][0]               \n",
      "__________________________________________________________________________________________________\n",
      "conv1d_1 (Conv1D)               (None, 640, 16)      1648        concatenate[0][0]                \n",
      "__________________________________________________________________________________________________\n",
      "conv1d_7 (Conv1D)               (None, 640, 16)      1648        concatenate_6[0][0]              \n",
      "__________________________________________________________________________________________________\n",
      "batch_normalization_1 (BatchNor (None, 640, 16)      64          conv1d_1[0][0]                   \n",
      "__________________________________________________________________________________________________\n",
      "batch_normalization_7 (BatchNor (None, 640, 16)      64          conv1d_7[0][0]                   \n",
      "__________________________________________________________________________________________________\n",
      "activation_1 (Activation)       (None, 640, 16)      0           batch_normalization_1[0][0]      \n",
      "__________________________________________________________________________________________________\n",
      "activation_7 (Activation)       (None, 640, 16)      0           batch_normalization_7[0][0]      \n",
      "__________________________________________________________________________________________________\n",
      "concatenate_1 (Concatenate)     (None, 640, 67)      0           concatenate[0][0]                \n",
      "                                                                 activation_1[0][0]               \n",
      "__________________________________________________________________________________________________\n",
      "concatenate_7 (Concatenate)     (None, 640, 67)      0           concatenate_6[0][0]              \n",
      "                                                                 activation_7[0][0]               \n",
      "__________________________________________________________________________________________________\n",
      "conv1d_2 (Conv1D)               (None, 640, 8)       2152        concatenate_1[0][0]              \n",
      "__________________________________________________________________________________________________\n",
      "conv1d_8 (Conv1D)               (None, 640, 8)       2152        concatenate_7[0][0]              \n",
      "__________________________________________________________________________________________________\n",
      "batch_normalization_2 (BatchNor (None, 640, 8)       32          conv1d_2[0][0]                   \n",
      "__________________________________________________________________________________________________\n",
      "batch_normalization_8 (BatchNor (None, 640, 8)       32          conv1d_8[0][0]                   \n",
      "__________________________________________________________________________________________________\n",
      "activation_2 (Activation)       (None, 640, 8)       0           batch_normalization_2[0][0]      \n",
      "__________________________________________________________________________________________________\n",
      "activation_8 (Activation)       (None, 640, 8)       0           batch_normalization_8[0][0]      \n",
      "__________________________________________________________________________________________________\n",
      "concatenate_2 (Concatenate)     (None, 640, 75)      0           concatenate_1[0][0]              \n",
      "                                                                 activation_2[0][0]               \n",
      "__________________________________________________________________________________________________\n",
      "concatenate_8 (Concatenate)     (None, 640, 75)      0           concatenate_7[0][0]              \n",
      "                                                                 activation_8[0][0]               \n",
      "__________________________________________________________________________________________________\n",
      "conv1d_3 (Conv1D)               (None, 640, 4)       2404        concatenate_2[0][0]              \n",
      "__________________________________________________________________________________________________\n",
      "conv1d_9 (Conv1D)               (None, 640, 4)       2404        concatenate_8[0][0]              \n",
      "__________________________________________________________________________________________________\n",
      "batch_normalization_3 (BatchNor (None, 640, 4)       16          conv1d_3[0][0]                   \n",
      "__________________________________________________________________________________________________\n",
      "batch_normalization_9 (BatchNor (None, 640, 4)       16          conv1d_9[0][0]                   \n",
      "__________________________________________________________________________________________________\n",
      "activation_3 (Activation)       (None, 640, 4)       0           batch_normalization_3[0][0]      \n",
      "__________________________________________________________________________________________________\n",
      "activation_9 (Activation)       (None, 640, 4)       0           batch_normalization_9[0][0]      \n",
      "__________________________________________________________________________________________________\n",
      "concatenate_3 (Concatenate)     (None, 640, 79)      0           concatenate_2[0][0]              \n",
      "                                                                 activation_3[0][0]               \n",
      "__________________________________________________________________________________________________\n",
      "concatenate_9 (Concatenate)     (None, 640, 79)      0           concatenate_8[0][0]              \n",
      "                                                                 activation_9[0][0]               \n",
      "__________________________________________________________________________________________________\n",
      "conv1d_4 (Conv1D)               (None, 640, 2)       2530        concatenate_3[0][0]              \n",
      "__________________________________________________________________________________________________\n",
      "conv1d_10 (Conv1D)              (None, 640, 2)       2530        concatenate_9[0][0]              \n",
      "__________________________________________________________________________________________________\n",
      "batch_normalization_4 (BatchNor (None, 640, 2)       8           conv1d_4[0][0]                   \n",
      "__________________________________________________________________________________________________\n",
      "batch_normalization_10 (BatchNo (None, 640, 2)       8           conv1d_10[0][0]                  \n",
      "__________________________________________________________________________________________________\n",
      "activation_4 (Activation)       (None, 640, 2)       0           batch_normalization_4[0][0]      \n",
      "__________________________________________________________________________________________________\n",
      "activation_10 (Activation)      (None, 640, 2)       0           batch_normalization_10[0][0]     \n",
      "__________________________________________________________________________________________________\n",
      "concatenate_4 (Concatenate)     (None, 640, 81)      0           concatenate_3[0][0]              \n",
      "                                                                 activation_4[0][0]               \n",
      "__________________________________________________________________________________________________\n",
      "concatenate_10 (Concatenate)    (None, 640, 81)      0           concatenate_9[0][0]              \n",
      "                                                                 activation_10[0][0]              \n",
      "__________________________________________________________________________________________________\n",
      "conv1d_5 (Conv1D)               (None, 640, 1)       2593        concatenate_4[0][0]              \n",
      "__________________________________________________________________________________________________\n",
      "conv1d_11 (Conv1D)              (None, 640, 1)       2593        concatenate_10[0][0]             \n",
      "__________________________________________________________________________________________________\n",
      "batch_normalization_5 (BatchNor (None, 640, 1)       4           conv1d_5[0][0]                   \n",
      "__________________________________________________________________________________________________\n",
      "batch_normalization_11 (BatchNo (None, 640, 1)       4           conv1d_11[0][0]                  \n",
      "__________________________________________________________________________________________________\n",
      "activation_5 (Activation)       (None, 640, 1)       0           batch_normalization_5[0][0]      \n",
      "__________________________________________________________________________________________________\n",
      "activation_11 (Activation)      (None, 640, 1)       0           batch_normalization_11[0][0]     \n",
      "__________________________________________________________________________________________________\n",
      "concatenate_5 (Concatenate)     (None, 640, 82)      0           concatenate_4[0][0]              \n",
      "                                                                 activation_5[0][0]               \n",
      "__________________________________________________________________________________________________\n",
      "concatenate_11 (Concatenate)    (None, 640, 82)      0           concatenate_10[0][0]             \n",
      "                                                                 activation_11[0][0]              \n",
      "__________________________________________________________________________________________________\n",
      "concatenate_12 (Concatenate)    (None, 640, 164)     0           concatenate_5[0][0]              \n",
      "                                                                 concatenate_11[0][0]             \n",
      "__________________________________________________________________________________________________\n",
      "dense (Dense)                   (None, 640, 64)      10560       concatenate_12[0][0]             \n",
      "__________________________________________________________________________________________________\n",
      "batch_normalization_12 (BatchNo (None, 640, 64)      256         dense[0][0]                      \n",
      "__________________________________________________________________________________________________\n",
      "activation_12 (Activation)      (None, 640, 64)      0           batch_normalization_12[0][0]     \n",
      "__________________________________________________________________________________________________\n",
      "dense_1 (Dense)                 (None, 640, 32)      2080        activation_12[0][0]              \n",
      "__________________________________________________________________________________________________\n",
      "batch_normalization_13 (BatchNo (None, 640, 32)      128         dense_1[0][0]                    \n",
      "__________________________________________________________________________________________________\n",
      "activation_13 (Activation)      (None, 640, 32)      0           batch_normalization_13[0][0]     \n",
      "__________________________________________________________________________________________________\n",
      "bidirectional (Bidirectional)   (None, 640, 60)      11520       activation_13[0][0]              \n",
      "__________________________________________________________________________________________________\n",
      "batch_normalization_14 (BatchNo (None, 640, 60)      240         bidirectional[0][0]              \n",
      "__________________________________________________________________________________________________\n",
      "bidirectional_1 (Bidirectional) (None, 640, 60)      16560       batch_normalization_14[0][0]     \n",
      "__________________________________________________________________________________________________\n",
      "batch_normalization_15 (BatchNo (None, 640, 60)      240         bidirectional_1[0][0]            \n",
      "__________________________________________________________________________________________________\n",
      "LocalKey35 (Dense)              (None, 640, 35)      2135        batch_normalization_15[0][0]     \n",
      "__________________________________________________________________________________________________\n",
      "PrimaryDegree22 (Dense)         (None, 640, 22)      1342        batch_normalization_15[0][0]     \n",
      "__________________________________________________________________________________________________\n",
      "SecondaryDegree22 (Dense)       (None, 640, 22)      1342        batch_normalization_15[0][0]     \n",
      "__________________________________________________________________________________________________\n",
      "Inversion4 (Dense)              (None, 640, 4)       244         batch_normalization_15[0][0]     \n",
      "__________________________________________________________________________________________________\n",
      "ChordQuality15 (Dense)          (None, 640, 16)      976         batch_normalization_15[0][0]     \n",
      "__________________________________________________________________________________________________\n",
      "ChordRoot35 (Dense)             (None, 640, 35)      2135        batch_normalization_15[0][0]     \n",
      "__________________________________________________________________________________________________\n",
      "Bass35 (Dense)                  (None, 640, 35)      2135        batch_normalization_15[0][0]     \n",
      "__________________________________________________________________________________________________\n",
      "RomanNumeral76 (Dense)          (None, 640, 76)      4636        batch_normalization_15[0][0]     \n",
      "__________________________________________________________________________________________________\n",
      "TonicizedKey35 (Dense)          (None, 640, 35)      2135        batch_normalization_15[0][0]     \n",
      "__________________________________________________________________________________________________\n",
      "PitchClassSet94 (Dense)         (None, 640, 94)      5734        batch_normalization_15[0][0]     \n",
      "__________________________________________________________________________________________________\n",
      "HarmonicRhythm2 (Dense)         (None, 640, 2)       122         batch_normalization_15[0][0]     \n",
      "==================================================================================================\n",
      "Total params: 88,958\n",
      "Trainable params: 88,274\n",
      "Non-trainable params: 684\n",
      "__________________________________________________________________________________________________\n"
     ]
    }
   ],
   "source": [
    "model.summary()"
   ]
  },
  {
   "cell_type": "code",
   "execution_count": 9,
   "id": "shared-kelly",
   "metadata": {},
   "outputs": [
    {
     "data": {
      "text/plain": [
       "['X_Bass19',\n",
       " 'X_Chromagram19',\n",
       " 'conv1d',\n",
       " 'conv1d_6',\n",
       " 'batch_normalization',\n",
       " 'batch_normalization_6',\n",
       " 'activation',\n",
       " 'activation_6',\n",
       " 'concatenate',\n",
       " 'concatenate_6',\n",
       " 'conv1d_1',\n",
       " 'conv1d_7',\n",
       " 'batch_normalization_1',\n",
       " 'batch_normalization_7',\n",
       " 'activation_1',\n",
       " 'activation_7',\n",
       " 'concatenate_1',\n",
       " 'concatenate_7',\n",
       " 'conv1d_2',\n",
       " 'conv1d_8',\n",
       " 'batch_normalization_2',\n",
       " 'batch_normalization_8',\n",
       " 'activation_2',\n",
       " 'activation_8',\n",
       " 'concatenate_2',\n",
       " 'concatenate_8',\n",
       " 'conv1d_3',\n",
       " 'conv1d_9',\n",
       " 'batch_normalization_3',\n",
       " 'batch_normalization_9',\n",
       " 'activation_3',\n",
       " 'activation_9',\n",
       " 'concatenate_3',\n",
       " 'concatenate_9',\n",
       " 'conv1d_4',\n",
       " 'conv1d_10',\n",
       " 'batch_normalization_4',\n",
       " 'batch_normalization_10',\n",
       " 'activation_4',\n",
       " 'activation_10',\n",
       " 'concatenate_4',\n",
       " 'concatenate_10',\n",
       " 'conv1d_5',\n",
       " 'conv1d_11',\n",
       " 'batch_normalization_5',\n",
       " 'batch_normalization_11',\n",
       " 'activation_5',\n",
       " 'activation_11',\n",
       " 'concatenate_5',\n",
       " 'concatenate_11',\n",
       " 'concatenate_12',\n",
       " 'dense',\n",
       " 'batch_normalization_12',\n",
       " 'activation_12',\n",
       " 'dense_1',\n",
       " 'batch_normalization_13',\n",
       " 'activation_13',\n",
       " 'bidirectional',\n",
       " 'batch_normalization_14',\n",
       " 'bidirectional_1',\n",
       " 'batch_normalization_15',\n",
       " 'LocalKey35',\n",
       " 'PrimaryDegree22',\n",
       " 'SecondaryDegree22',\n",
       " 'Inversion4',\n",
       " 'ChordQuality15',\n",
       " 'ChordRoot35',\n",
       " 'Bass35',\n",
       " 'RomanNumeral76',\n",
       " 'TonicizedKey35',\n",
       " 'PitchClassSet94',\n",
       " 'HarmonicRhythm2']"
      ]
     },
     "execution_count": 9,
     "metadata": {},
     "output_type": "execute_result"
    }
   ],
   "source": [
    "[l.name for l in model.layers]"
   ]
  },
  {
   "cell_type": "code",
   "execution_count": 10,
   "id": "irish-pottery",
   "metadata": {},
   "outputs": [
    {
     "data": {
      "text/plain": [
       "[<KerasTensor: shape=(None, 640, 19) dtype=float32 (created by layer 'X_Bass19')>,\n",
       " <KerasTensor: shape=(None, 640, 19) dtype=float32 (created by layer 'X_Chromagram19')>]"
      ]
     },
     "execution_count": 10,
     "metadata": {},
     "output_type": "execute_result"
    }
   ],
   "source": [
    "model.inputs"
   ]
  },
  {
   "cell_type": "code",
   "execution_count": 11,
   "id": "central-addition",
   "metadata": {},
   "outputs": [],
   "source": [
    "newModel = keras.Model(inputs=model.inputs[0], outputs=model.layers[6].output)"
   ]
  },
  {
   "cell_type": "code",
   "execution_count": 12,
   "id": "specified-crest",
   "metadata": {},
   "outputs": [
    {
     "data": {
      "text/plain": [
       "[<tensorflow.python.keras.engine.input_layer.InputLayer at 0x7fb53e2b2ac0>,\n",
       " <tensorflow.python.keras.layers.convolutional.Conv1D at 0x7fb53e2b2a00>,\n",
       " <tensorflow.python.keras.layers.normalization_v2.BatchNormalization at 0x7fb53cb39be0>,\n",
       " <tensorflow.python.keras.layers.core.Activation at 0x7fb53c2a9c40>]"
      ]
     },
     "execution_count": 12,
     "metadata": {},
     "output_type": "execute_result"
    }
   ],
   "source": [
    "newModel.layers"
   ]
  },
  {
   "cell_type": "code",
   "execution_count": 13,
   "id": "altered-mumbai",
   "metadata": {},
   "outputs": [],
   "source": [
    "exampleInput = np.zeros((640, 19))\n",
    "spellings = {\n",
    "    (0, 10): \"C--\", (0, 11): \"C-\", (0, 0): \"C\", (0, 1): \"C#\", (0, 2): \"C##\",\n",
    "    (1, 0): \"D--\", (1, 1): \"D-\", (1, 2): \"D\", (1, 3): \"D#\", (1, 4): \"D##\",\n",
    "    (2, 2): \"E--\", (2, 3): \"E-\", (2, 4): \"E\", (2, 5): \"E#\", (2, 6): \"E##\",\n",
    "    (3, 3): \"F--\", (3, 4): \"F-\", (3, 5): \"F\", (3, 6): \"F#\", (3, 7): \"F##\",\n",
    "    (4, 5): \"G--\", (4, 6): \"G-\", (4, 7): \"G\", (4, 8): \"G#\", (4, 9): \"G##\",\n",
    "    (5, 7): \"A--\", (5, 8): \"A-\", (5, 9): \"A\", (5, 10): \"A#\", (5, 11): \"A##\",\n",
    "    (6, 9): \"B--\", (6, 10): \"B-\", (6, 11): \"B\", (6, 0): \"B#\", (6, 1): \"B##\",\n",
    "}\n",
    "numberOfSpellings = len(spellings)\n",
    "\n",
    "for idx, (letter, pc) in enumerate(spellings.keys()):\n",
    "    exampleInput[idx][letter] = 1\n",
    "    exampleInput[idx][7 + pc] = 1\n",
    "\n",
    "exampleInput = exampleInput.reshape((1, 640, 19))"
   ]
  },
  {
   "cell_type": "code",
   "execution_count": 14,
   "id": "elect-redhead",
   "metadata": {},
   "outputs": [
    {
     "data": {
      "text/plain": [
       "<matplotlib.collections.QuadMesh at 0x7fb53441aa60>"
      ]
     },
     "execution_count": 14,
     "metadata": {},
     "output_type": "execute_result"
    },
    {
     "data": {
      "image/png": "[encoded data removed]",
      "text/plain": [
       "<Figure size 1440x720 with 1 Axes>"
      ]
     },
     "metadata": {
      "needs_background": "light"
     },
     "output_type": "display_data"
    }
   ],
   "source": [
    "plt.figure(figsize=(20,10))\n",
    "plt.pcolormesh(exampleInput[0][:numberOfSpellings+5].T, edgecolors=\"k\")"
   ]
  },
  {
   "cell_type": "code",
   "execution_count": 15,
   "id": "experimental-handling",
   "metadata": {},
   "outputs": [],
   "source": [
    "activations = newModel.predict(exampleInput)[0][:numberOfSpellings+5].T"
   ]
  },
  {
   "cell_type": "code",
   "execution_count": 16,
   "id": "functional-origin",
   "metadata": {},
   "outputs": [
    {
     "data": {
      "text/plain": [
       "array([0.23059544, 0.13763982, 0.08231355, 0.24872684, 0.        ,\n",
       "       0.19754568, 0.36395895, 0.        , 0.17765899, 0.        ,\n",
       "       0.        , 0.        , 0.        , 0.        , 0.        ,\n",
       "       0.        , 0.        , 0.        , 0.        , 0.        ,\n",
       "       0.15397562, 0.        , 0.45913383, 0.2942595 , 0.1338621 ,\n",
       "       0.23302396, 0.0681496 , 0.        , 0.22230072, 0.12934507,\n",
       "       0.00667064, 0.32121912, 0.2282635 , 0.17293723, 0.3393505 ,\n",
       "       0.07711657, 0.07711657, 0.07711657, 0.07711657, 0.07711657],\n",
       "      dtype=float32)"
      ]
     },
     "execution_count": 16,
     "metadata": {},
     "output_type": "execute_result"
    }
   ],
   "source": [
    "activations[0]"
   ]
  },
  {
   "cell_type": "code",
   "execution_count": 17,
   "id": "dying-feedback",
   "metadata": {},
   "outputs": [
    {
     "data": {
      "text/plain": [
       "(32, 40)"
      ]
     },
     "execution_count": 17,
     "metadata": {},
     "output_type": "execute_result"
    }
   ],
   "source": [
    "activations.shape"
   ]
  },
  {
   "cell_type": "code",
   "execution_count": 18,
   "id": "beginning-failure",
   "metadata": {},
   "outputs": [
    {
     "data": {
      "text/plain": [
       "<matplotlib.collections.QuadMesh at 0x7fb5344ecaf0>"
      ]
     },
     "execution_count": 18,
     "metadata": {},
     "output_type": "execute_result"
    },
    {
     "data": {
      "image/png": "[encoded data removed]",
      "text/plain": [
       "<Figure size 1440x720 with 1 Axes>"
      ]
     },
     "metadata": {
      "needs_background": "light"
     },
     "output_type": "display_data"
    }
   ],
   "source": [
    "plt.figure(figsize=(20,10))\n",
    "plt.pcolormesh(activations, edgecolors=\"k\", cmap=\"inferno\")"
   ]
  },
  {
   "cell_type": "code",
   "execution_count": 19,
   "id": "lyric-humor",
   "metadata": {},
   "outputs": [
    {
     "name": "stdout",
     "output_type": "stream",
     "text": [
      "Filter0: []\n",
      "Filter1: ['F-', 'F##', 'C-', 'C#', 'D##']\n",
      "Filter2: ['B##', 'E']\n",
      "Filter3: []\n",
      "Filter4: ['D-', 'B##', 'B--', 'A--']\n",
      "Filter5: []\n",
      "Filter6: ['C##', 'C--', 'A#', 'C#']\n",
      "Filter7: []\n",
      "Filter8: ['B--', 'E#', 'B##', 'G##', 'G--', 'B-']\n",
      "Filter9: ['G##', 'D-', 'D--']\n",
      "Filter10: ['G##', 'E--', 'E-']\n",
      "Filter11: []\n",
      "Filter12: ['G-', 'G--']\n",
      "Filter13: ['A-', 'F']\n",
      "Filter14: ['E-', 'C#', 'E', 'C-', 'E--', 'C##', 'A##', 'F--', 'F-', 'C', 'C--', 'D-', 'D#', 'A#', 'D##', 'A-', 'D', 'B##', 'E#', 'A', 'B', 'E##', 'D--', 'F', 'A--', 'F#', 'B#', 'B-', 'F##', 'G#', 'B--', 'G##', 'G--', 'G-', 'G']\n",
      "Filter15: []\n",
      "Filter16: []\n",
      "Filter17: ['D##', 'D--', 'D#']\n",
      "Filter18: []\n",
      "Filter19: ['C']\n",
      "Filter20: ['D', 'B', 'D--']\n",
      "Filter21: ['E##', 'E#', 'G-', 'E--', 'A##', 'G--']\n",
      "Filter22: ['G#']\n",
      "Filter23: []\n",
      "Filter24: []\n",
      "Filter25: []\n",
      "Filter26: []\n",
      "Filter27: ['C-', 'A##', 'A-', 'A--']\n",
      "Filter28: ['F-', 'F--']\n",
      "Filter29: ['A', 'C#', 'F#']\n",
      "Filter30: ['B#', 'B##', 'B-']\n",
      "Filter31: []\n"
     ]
    }
   ],
   "source": [
    "for fidx, f in enumerate(activations):\n",
    "    threshold = 0.5\n",
    "    idxAct = [(idx, act) for idx, act in enumerate(f[:numberOfSpellings]) if act > threshold]\n",
    "    idxAct.sort(key=lambda x: x[1], reverse=True)\n",
    "    highActivations = [x[0] for x in idxAct]\n",
    "#     print(highActivations)\n",
    "    noteSpellings = list(spellings.values())\n",
    "    notesActivated = [noteSpellings[idx] for idx in highActivations]\n",
    "    print(f\"Filter{fidx}: {notesActivated}\")"
   ]
  },
  {
   "cell_type": "code",
   "execution_count": null,
   "id": "welsh-drain",
   "metadata": {},
   "outputs": [],
   "source": []
  }
 ],
 "metadata": {
  "kernelspec": {
   "display_name": "Python 3",
   "language": "python",
   "name": "python3"
  },
  "language_info": {
   "codemirror_mode": {
    "name": "ipython",
    "version": 3
   },
   "file_extension": ".py",
   "mimetype": "text/x-python",
   "name": "python",
   "nbconvert_exporter": "python",
   "pygments_lexer": "ipython3",
   "version": "3.8.10"
  }
 },
 "nbformat": 4,
 "nbformat_minor": 5
}
